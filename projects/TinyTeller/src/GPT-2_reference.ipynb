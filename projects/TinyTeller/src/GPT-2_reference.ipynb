{
 "cells": [
  {
   "cell_type": "code",
   "execution_count": 5,
   "metadata": {},
   "outputs": [
    {
     "name": "stdout",
     "output_type": "stream",
     "text": [
      "Generated Text 1:\n",
      "Once upon a time there was a pumpkin. Then I saw it in the bushes. I was like, 'Oh, what the fuck?' Then this pumpkin came out, and it was big. It was 5 feet tall and had a big, big pumpkin on the top. And I said, Oh, that's the pumpkin, but I'm not sure where it came from, because I don't know, I mean, the whole pumpkin thing, it's like a little red brick. But it really was bigger than I thought it would be.\"\n",
      "\n",
      "After he was fired from the department, she said the store's director told her that \"you can't have a 'real pumpkin' without a fake one.\" The pumpkin was purchased at the Pumpkin Spice Factory in nearby Belmont, where she says she had \"never seen a real pumpkin before.\" She said she would have been surprised if the fake pumpkin had been able to stay with the owner.\n",
      " and \"I think, oh, we should have had this one in a different place because it looks like it had an apple in it,\" she explained. \"But we didn't, so we took it out.\" Now, her employer, a local construction company, has been trying to get her to return to work.\n",
      "\n"
     ]
    }
   ],
   "source": [
    "from transformers import GPT2LMHeadModel, GPT2Tokenizer\n",
    "import torch\n",
    "\n",
    "def generate_text(prompt, max_length=256, num_return_sequences=1, temperature=0.7, top_k=50, top_p=0.95, repetition_penalty=1.0, no_repeat_ngram_size=2, device='cpu'):\n",
    "    # Load the trained model and tokenizer\n",
    "    model = GPT2LMHeadModel.from_pretrained(\"gpt2\").to(device)\n",
    "    tokenizer = GPT2Tokenizer.from_pretrained(\"gpt2\")\n",
    "    tokenizer.pad_token = tokenizer.eos_token\n",
    "    \n",
    "    model.eval()\n",
    "    \n",
    "    # Tokenize input prompt\n",
    "    input = tokenizer(prompt, return_tensors='pt')\n",
    "    input['input_ids'] = input['input_ids'].to(device)\n",
    "    input['attention_mask'] = input['attention_mask'].to(device)\n",
    "    \n",
    "    # Generate text with added controls to avoid repetition\n",
    "    output = model.generate(\n",
    "        **input,\n",
    "        max_length=max_length,\n",
    "        num_return_sequences=num_return_sequences,\n",
    "        temperature=temperature,\n",
    "        top_k=top_k,\n",
    "        top_p=top_p,\n",
    "        do_sample=True,  # Enable sampling for more diverse outputs\n",
    "        pad_token_id=tokenizer.pad_token_id,  # Explicitly set pad_token_id\n",
    "        eos_token_id=tokenizer.eos_token_id,  # Stop generation at EOS token\n",
    "        repetition_penalty=repetition_penalty,  # Apply repetition penalty\n",
    "        no_repeat_ngram_size=no_repeat_ngram_size,  # Avoid repeating n-grams\n",
    "    )\n",
    "    \n",
    "    # Decode and return generated text\n",
    "    return [tokenizer.decode(seq, skip_special_tokens=True) for seq in output]\n",
    "\n",
    "# Example usage\n",
    "device = torch.device(\"cuda\" if torch.cuda.is_available() else \"cpu\")\n",
    "prompt = \"Once upon a time there was a pumpkin.\"\n",
    "generated_texts = generate_text(prompt, device=device)\n",
    "for i, text in enumerate(generated_texts):\n",
    "    print(f\"Generated Text {i+1}:\\n{text}\\n\")\n"
   ]
  }
 ],
 "metadata": {
  "kernelspec": {
   "display_name": ".venv",
   "language": "python",
   "name": "python3"
  },
  "language_info": {
   "codemirror_mode": {
    "name": "ipython",
    "version": 3
   },
   "file_extension": ".py",
   "mimetype": "text/x-python",
   "name": "python",
   "nbconvert_exporter": "python",
   "pygments_lexer": "ipython3",
   "version": "3.12.8"
  }
 },
 "nbformat": 4,
 "nbformat_minor": 2
}
